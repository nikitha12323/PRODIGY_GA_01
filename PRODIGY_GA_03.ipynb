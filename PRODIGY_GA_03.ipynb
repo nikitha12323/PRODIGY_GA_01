{
  "nbformat": 4,
  "nbformat_minor": 0,
  "metadata": {
    "colab": {
      "provenance": [],
      "authorship_tag": "ABX9TyNHozVOQq/6Bt3EK8NSsh/k",
      "include_colab_link": true
    },
    "kernelspec": {
      "name": "python3",
      "display_name": "Python 3"
    },
    "language_info": {
      "name": "python"
    }
  },
  "cells": [
    {
      "cell_type": "markdown",
      "metadata": {
        "id": "view-in-github",
        "colab_type": "text"
      },
      "source": [
        "<a href=\"https://colab.research.google.com/github/nikitha12323/PRODIGY_GA_01/blob/main/PRODIGY_GA_03.ipynb\" target=\"_parent\"><img src=\"https://colab.research.google.com/assets/colab-badge.svg\" alt=\"Open In Colab\"/></a>"
      ]
    },
    {
      "cell_type": "code",
      "execution_count": null,
      "metadata": {
        "colab": {
          "base_uri": "https://localhost:8080/"
        },
        "id": "JTQJoYj2ctzg",
        "outputId": "4bdca119-1a2a-4d1c-9cab-2cdafefb2f1a"
      },
      "outputs": [
        {
          "output_type": "stream",
          "name": "stdout",
          "text": [
            "Generated Text:\n",
            " ased on the next chains are useful for text character\n",
            "    based on the next generation.\n",
            "    based on the next generation.\n",
            "    based on the next generation.\n",
            "   This is is are useful for text character\n",
            "     This are useful for text characters.\n"
          ]
        }
      ],
      "source": [
        "\n",
        "import random\n",
        "from collections import defaultdict\n",
        "\n",
        "class MarkovCharGenerator:\n",
        "    def __init__(self):\n",
        "        self.model = defaultdict(list)\n",
        "\n",
        "    def train(self, text, n=2):\n",
        "        \"\"\"\n",
        "        Train the Markov chain on characters.\n",
        "        :param text: Input text (string)\n",
        "        :param n: Order of the Markov chain (2 means use 2 previous chars)\n",
        "        \"\"\"\n",
        "        for i in range(len(text) - n):\n",
        "            key = text[i:i+n]\n",
        "            next_char = text[i+n]\n",
        "            self.model[key].append(next_char)\n",
        "\n",
        "    def generate_text(self, length=200, seed=None):\n",
        "        \"\"\"\n",
        "        Generate text of given length (characters).\n",
        "        :param length: number of characters to generate\n",
        "        :param seed: starting string (optional)\n",
        "        \"\"\"\n",
        "        if seed is None:\n",
        "            seed = random.choice(list(self.model.keys()))\n",
        "\n",
        "        output = seed\n",
        "\n",
        "        for _ in range(length - len(seed)):\n",
        "            if seed in self.model:\n",
        "                next_char = random.choice(self.model[seed])\n",
        "                output += next_char\n",
        "                seed = output[-len(seed):]\n",
        "            else:\n",
        "                break\n",
        "        return output\n",
        "\n",
        "\n",
        "# ---------------- Example Usage ----------------\n",
        "if __name__ == \"__main__\":\n",
        "    text = \"\"\"Markov chains are useful for text generation.\n",
        "    This is a character level model. It predicts the next character\n",
        "    based on the previous few characters.\"\"\"\n",
        "\n",
        "    mc = MarkovCharGenerator()\n",
        "    mc.train(text, n=3)\n",
        "    generated_text = mc.generate_text(length=300)\n",
        "    print(\"Generated Text:\\n\", generated_text)"
      ]
    }
  ]
}